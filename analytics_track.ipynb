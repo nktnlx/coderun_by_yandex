{
 "cells": [
  {
   "cell_type": "markdown",
   "id": "9b02084f-aef1-4008-8b4b-ca0b8accaf65",
   "metadata": {},
   "source": [
    "# CodeRun β"
   ]
  },
  {
   "cell_type": "markdown",
   "id": "0ce788b1-59d2-4458-bb47-f48f9a5697a8",
   "metadata": {},
   "source": [
    "[link to website](https://coderun.yandex.ru/catalog)"
   ]
  },
  {
   "cell_type": "markdown",
   "id": "414a0969-2ae7-4754-b1cd-b1443559ab60",
   "metadata": {},
   "source": [
    "## Analytics track"
   ]
  },
  {
   "cell_type": "markdown",
   "id": "501bcd0c-2ea3-4109-9f1e-437fa335e70e",
   "metadata": {},
   "source": [
    "### Task 259. A users log"
   ]
  },
  {
   "cell_type": "markdown",
   "id": "f5464310-46e1-4514-a633-647da1b9ea57",
   "metadata": {},
   "source": [
    "We want to build a product recommendation model using user logs. However, user features are scattered across 20 files, each of which contains two columns: user ID and feature value.\n",
    "\n",
    "Calculate the number of users who have at least 50% of all feature fields filled.\n",
    "\n",
    "**Input format:**\n",
    "- All files are sorted by user ID.\n",
    "- User IDs are unique in the feature files and not unique in the log."
   ]
  },
  {
   "cell_type": "code",
   "execution_count": 293,
   "id": "0a8a2ad0-cb9a-423d-b09c-661c9a5e14a1",
   "metadata": {
    "tags": []
   },
   "outputs": [],
   "source": [
    "df_log = pd.read_csv('~/algo/coderun_features_files/log.csv',\n",
    "                     header=None, names=['user_id', 'action'])"
   ]
  },
  {
   "cell_type": "code",
   "execution_count": 294,
   "id": "cf9f975e-165e-4886-b4d0-e024df5c7374",
   "metadata": {
    "tags": []
   },
   "outputs": [],
   "source": [
    "df_log = df_log.drop_duplicates(['user_id']).reset_index(drop=True)[['user_id']]"
   ]
  },
  {
   "cell_type": "code",
   "execution_count": 295,
   "id": "635b8df3-4837-4970-b294-8458fb17a5e4",
   "metadata": {
    "tags": []
   },
   "outputs": [],
   "source": [
    "import os\n",
    "import pandas as pd\n",
    "\n",
    "# Get a list of CSV files from a folder\n",
    "path = '/home/nikitin_a/algo/coderun_features_files/'\n",
    "files = [f for f in os.listdir(path) if f.startswith('feature')]\n",
    "\n",
    "# Read each file into a dataframe and append it to a dataframe with user_id\n",
    "cnt = 1\n",
    "for file in files:\n",
    "    df_feature = pd.read_csv(path+file, header=None, names=['user_id', f'feature_{cnt}'])\n",
    "    cnt += 1\n",
    "    df_log = pd.merge(df_log, df_feature, on='user_id', how='left')"
   ]
  },
  {
   "cell_type": "code",
   "execution_count": 296,
   "id": "cb227011-dfb5-4adc-9b7e-c911ce3b6229",
   "metadata": {
    "tags": []
   },
   "outputs": [],
   "source": [
    "df_log['is_na_sum'] = df_log.isna().sum(axis=1)"
   ]
  },
  {
   "cell_type": "code",
   "execution_count": 297,
   "id": "18d4af67-7102-499e-8b9a-e11d9120bd0d",
   "metadata": {
    "tags": []
   },
   "outputs": [
    {
     "data": {
      "text/plain": [
       "870"
      ]
     },
     "execution_count": 297,
     "metadata": {},
     "output_type": "execute_result"
    }
   ],
   "source": [
    "df_log[df_log['is_na_sum'] <= 10].user_id.nunique()"
   ]
  },
  {
   "cell_type": "markdown",
   "id": "6194b4d6-0344-41f9-acb6-a9d293dbcb9e",
   "metadata": {},
   "source": [
    "### Task 219. Travel time"
   ]
  },
  {
   "cell_type": "markdown",
   "id": "2f7ec55a-3be9-4e19-b83f-44f0e8f6811c",
   "metadata": {},
   "source": [
    "Traveler Vasya is choosing a time to go on a trip to a new country. Vasya believes that the vacation is successful if the temperature in the country rises during the travel time, and the stronger the temperature rises relative to the moment of arrival, the better.\n",
    "\n",
    "Given a weather forecast for a certain period ahead, you need to indicate the temperature change for the best period for Vasya and the best arrival and departure dates (day numbers). If there are several best options, then indicate the day numbers of the shortest trip with the nearest end date.\n",
    "\n",
    "**Input format:**\n",
    "\n",
    "One line of integers separated by a space.\n",
    "\n",
    "The number of days is not more than 10,000, the temperature is positive everywhere and does not exceed 45 degrees.\n",
    "\n",
    "**Output format:**\n",
    "\n",
    "Three numbers separated by a space: the temperature change for the optimal period, the arrival day number, and the departure day number (day numbering starting from 0). It is guaranteed that with the optimal choice of the trip, the temperature will increase."
   ]
  },
  {
   "cell_type": "code",
   "execution_count": 198,
   "id": "8eb856ea-b56b-41c7-ac0a-fb6af4d89990",
   "metadata": {
    "tags": []
   },
   "outputs": [
    {
     "name": "stdin",
     "output_type": "stream",
     "text": [
      " 3 4 1 6\n"
     ]
    },
    {
     "name": "stdout",
     "output_type": "stream",
     "text": [
      "5 2 3\n"
     ]
    }
   ],
   "source": [
    "import sys\n",
    "\n",
    "\n",
    "def main():\n",
    "    inp = [int(x) for x in input().split()]\n",
    "\n",
    "    max_t = 0\n",
    "    start = 0\n",
    "    stop = 1\n",
    "    for i in range(0, len(inp)):\n",
    "        for j in range(i+1, len(inp)):\n",
    "            if inp[j] - inp[i] > max_t:\n",
    "                max_t = inp[j] - inp[i]\n",
    "                start, stop = i, j        \n",
    "\n",
    "    print(max_t, start, stop)\n",
    "\n",
    "\n",
    "if __name__ == '__main__':\n",
    "    main()"
   ]
  },
  {
   "cell_type": "markdown",
   "id": "951d9236-af6e-452a-9314-d0c654345dad",
   "metadata": {},
   "source": [
    "### Task 281. Hair saloon"
   ]
  },
  {
   "cell_type": "markdown",
   "id": "448c1609-858d-4112-95a5-4b18b7093dc5",
   "metadata": {},
   "source": [
    "Nikolay works in a hair salon in a big city. One day, before going to work, he realized that he wouldn't be able to serve all of his N scheduled clients for the day and could only serve K. Since Nikolay can't come to work twice or take a break, he needs K clients to come in a row. Knowing the probabilities that a client will never return to the hair salon after a cancellation, it is necessary to find the minimum expected number of lost clients given the best cancellation scenario.\n",
    "\n",
    "**Input format:**\n",
    "\n",
    "The first line contains the number N (1 ≤ N ≤ 1000000). The second line contains the number K (0 ≤ K ≤ N). The next N lines contain a fractional number between 0 and 1. The i-th number represents the probability that the i-th client will not return after a cancellation.\n",
    "\n",
    "**Output format:**\n",
    "\n",
    "A fractional number - the minimum expected number of lost clients."
   ]
  },
  {
   "cell_type": "code",
   "execution_count": 162,
   "id": "0e9c3104-23fd-4d65-9590-0198b9ce9652",
   "metadata": {},
   "outputs": [
    {
     "name": "stdin",
     "output_type": "stream",
     "text": [
      " 5\n",
      " 3\n",
      " 0.668103249992\n",
      " 0.525906286805\n",
      " 0.0793836313371\n",
      " 0.986652106472\n",
      " 0.010960416731\n"
     ]
    },
    {
     "name": "stdout",
     "output_type": "stream",
     "text": [
      "0.6790636667229997\n"
     ]
    }
   ],
   "source": [
    "def main():\n",
    "    n = int(input())\n",
    "    k = int(input())\n",
    "    clients = [float(input()) for _ in range(n)]\n",
    "\n",
    "    if k == 0:\n",
    "        return sum(clients)\n",
    "    elif k == n:\n",
    "        return 0\n",
    "    elif k == 1:\n",
    "        return sum(clients) - max(clients)\n",
    "    else:\n",
    "        dp = [0] * n\n",
    "        dp[0] = clients[0]\n",
    "        for i in range(1, n):\n",
    "            dp[i] = dp[i-1] + clients[i]\n",
    "            if i >= k:\n",
    "                dp[i] -= clients[i-k]\n",
    "        return sum(clients) - max(dp)\n",
    "\n",
    "\n",
    "if __name__ == '__main__':\n",
    "    print(main())"
   ]
  },
  {
   "cell_type": "markdown",
   "id": "8b996085-2c16-435a-b0ed-8abef3596750",
   "metadata": {},
   "source": [
    "### Task 339. Greg's Parties"
   ]
  },
  {
   "cell_type": "markdown",
   "id": "3b4ef568-1fba-4c4e-acef-4f4c24deddb2",
   "metadata": {},
   "source": [
    "Greg loves parties. Every week, he randomly selects a non-empty subset of all his friends in his messenger, creates a chat and invites all participants to have fun. Greg knows that the probability of a particular chat participant attending the party is `x/(x^2-5x+10)`, where x is the number of people in the subset. The decisions of the participants are independent. The party is considered awesome if there are at least two people present (including Greg, who always comes).\n",
    "\n",
    "What is the probability that all of Greg's parties will be awesome over the course of a year (52 weeks) if Greg maximizes their number?\n",
    "\n",
    "**Output format**\n",
    "\n",
    "A floating-point number with three digits after the decimal point (0.000)."
   ]
  },
  {
   "cell_type": "code",
   "execution_count": 65,
   "id": "8ecdbfd9-37fc-4788-a24f-0decfa1d0ffb",
   "metadata": {
    "tags": []
   },
   "outputs": [
    {
     "name": "stdout",
     "output_type": "stream",
     "text": [
      "0.524\n"
     ]
    }
   ],
   "source": [
    "weeks = 52\n",
    "max_awesomenes = 0\n",
    "for x in range(2, 11):\n",
    "    p_one_come = x / (x**2 - 5*x + 10)\n",
    "    p_no_show = (1 - p_one_come)**x\n",
    "    p_awesome = 1 - p_no_show\n",
    "    p_all_awesome = p_awesome ** weeks\n",
    "    if p_all_awesome > max_awesomenes:\n",
    "        max_awesomenes = p_all_awesome\n",
    "\n",
    "print(round(max_awesomenes, 3))        "
   ]
  },
  {
   "cell_type": "markdown",
   "id": "7515013d-5d55-474a-a451-3f046b2b4750",
   "metadata": {},
   "source": [
    "### Task 189. Dj Pasha"
   ]
  },
  {
   "cell_type": "markdown",
   "id": "9feacfbb-d6c2-45f0-94a3-74dba52a3192",
   "metadata": {},
   "source": [
    "Pasha is preparing for a party and creating a playlist of hip-hop music. He doesn't want to use common tracks and is looking for something new that he hasn't heard before.\n",
    "\n",
    "Pasha turned on a stream of unknown tracks on Yandex Music and is selecting a playlist. He calculated that an unknown track becomes his favorite with a probability of 20%.\n",
    "\n",
    "And among his favorites, on average, every third track is in the hip-hop genre.\n",
    "\n",
    "Pasha is trying to figure out how much time he needs to allocate to create a cool hip-hop playlist. Help him calculate how much time, on average, he needs to spend to hear one favorite hip-hop track if on average, one musical track lasts 2 minutes 45 seconds.\n",
    "\n",
    "**Output Format**\n",
    "\n",
    "The average amount of time needed to spend to listen to one favorite hip-hop track in seconds."
   ]
  },
  {
   "cell_type": "code",
   "execution_count": 33,
   "id": "de36ec63-bc45-4705-bc06-8588292d0146",
   "metadata": {
    "tags": []
   },
   "outputs": [
    {
     "name": "stdout",
     "output_type": "stream",
     "text": [
      "An average time to find a liked hip-hop track: 2475.74 ± 0.05 seconds.\n"
     ]
    }
   ],
   "source": [
    "import random\n",
    "import numpy as np\n",
    "\n",
    "\n",
    "trials = 100000\n",
    "avg_track = (2 * 60) + 45\n",
    "genres = ['hip-hop', 'rock', 'pop']\n",
    "\n",
    "results = []\n",
    "for _ in range(trials):\n",
    "    tracks = ['liked'] * 2000 + ['skip'] * 8000\n",
    "    random.shuffle(tracks)\n",
    "    time_avg = 0\n",
    "    genre = False\n",
    "    while genre != 'hip-hop':\n",
    "        playing_now = tracks.pop()\n",
    "        time_avg += avg_track\n",
    "        if playing_now == 'liked':\n",
    "            genre = random.choice(genres)\n",
    "    results.append(time_avg)\n",
    "\n",
    "mu = np.mean(results)    \n",
    "se = np.std(results) / len(results)\n",
    "d = 1.96 * se\n",
    "\n",
    "\n",
    "print(f'An average time to find a liked hip-hop track: {mu:.2f} ± {d:.2f} seconds.')"
   ]
  },
  {
   "cell_type": "markdown",
   "id": "2d251e29-b884-40a7-adcf-5c6540479553",
   "metadata": {},
   "source": [
    "### Task 322. Deck of cards"
   ]
  },
  {
   "cell_type": "markdown",
   "id": "92ce488b-8e2e-4960-8c27-3a6055381a09",
   "metadata": {
    "tags": []
   },
   "source": [
    "From a well-shuffled full deck of cards (from twos to aces, 4 suits, a total of 52 cards), you are dealt 6 cards in a row. What is the probability that the sum of the dealt cards will be 21 points? Assume that the jack is worth 11 points, the queen is worth 12 points, the king is worth 13 points, and the ace is worth 14 points. The point value for the other cards coincides with their nominal value.\n",
    "\n",
    "Round your answer to six decimal places.\n",
    "\n",
    "**Output format:**\n",
    "\n",
    "A number from 0 to 1 with six decimal places. Example of the answer format: 0.123456"
   ]
  },
  {
   "cell_type": "code",
   "execution_count": 1,
   "id": "ab1cc256-acda-44b1-809f-6b67f2ead7ca",
   "metadata": {
    "tags": []
   },
   "outputs": [
    {
     "name": "stdout",
     "output_type": "stream",
     "text": [
      "0.000435\n"
     ]
    }
   ],
   "source": [
    "import random\n",
    "\n",
    "\n",
    "trials = 1000000\n",
    "sum_ = 21\n",
    "cards = [2] * 4 + [3] * 4 + \\\n",
    "        [4] * 4 + [5] * 4 + \\\n",
    "        [6] * 4 + [7] * 4 + \\\n",
    "        [8] * 4 + [9] * 4 + \\\n",
    "        [10] * 4 + [11] * 4 + \\\n",
    "        [12] * 4 + [13] * 4 + \\\n",
    "        [14] * 4\n",
    "\n",
    "cnt = 0\n",
    "for trial in range(trials):\n",
    "    random.shuffle(cards)\n",
    "    ans = sum(random.choices(cards, k=6))\n",
    "    if ans == sum_:\n",
    "        cnt += 1\n",
    "\n",
    "print(cnt/trials)"
   ]
  },
  {
   "cell_type": "markdown",
   "id": "2a307a08-d867-44c2-b4bd-88691eefecf9",
   "metadata": {},
   "source": [
    "### Task 191. The most difficult letter"
   ]
  },
  {
   "cell_type": "markdown",
   "id": "568618ae-b579-4632-86f4-bcbd205b5ac9",
   "metadata": {},
   "source": [
    "Vasily decided to improve his typing speed. He noticed that he spends more time looking for some letters on the keyboard than others. He wonders which letter he searched for the longest. Write a program that will help Vasily find out.\n",
    "\n",
    "Vasily entered N letters. The string S, entered by Vasily, has a length of N.\n",
    "\n",
    "The array A contains N non-negative integers, each number Ai is the time in milliseconds from the beginning of input until the i-th letter was typed.\n",
    "\n",
    "It is assumed that Vasily started looking for the next letter immediately after typing the previous one. He was looking for the letter with the index 0 for A0 milliseconds.\n",
    "\n",
    "When solving in the Dart language, use input and output through files, the standard input stream works too slowly.\n",
    "\n",
    "**Input format**\n",
    "\n",
    "The first line of input contains N - the number of letters entered.\n",
    "\n",
    "The second line contains S - the entered string consisting of N letters.\n",
    "\n",
    "The third line contains A - N non-negative integers separated by spaces.\n",
    "\n",
    "**Constraints**\n",
    "\n",
    "0 < N < 10^6\n",
    "0 ≤ Ai < 10^8\n",
    "The array A is sorted in ascending order:\n",
    "\n",
    "**Output format**\n",
    "\n",
    "Output the letter that Vasily searched for the longest. If there are several letters with the same search time, output the one that he typed last."
   ]
  },
  {
   "cell_type": "code",
   "execution_count": 2,
   "id": "ea30c1cb-019d-478d-a6ca-7a0f0d63e27a",
   "metadata": {
    "tags": []
   },
   "outputs": [
    {
     "name": "stdin",
     "output_type": "stream",
     "text": [
      " 3\n",
      " adc\n",
      " 1 7 5\n"
     ]
    },
    {
     "name": "stdout",
     "output_type": "stream",
     "text": [
      "d\n"
     ]
    }
   ],
   "source": [
    "n = int(input())\n",
    "letters = input()\n",
    "seconds = list(map(int, input().split()))\n",
    "\n",
    "max_time = 0\n",
    "max_idx = 0\n",
    "for i in range(n):\n",
    "    if i == 0:\n",
    "        ans = seconds[i] - 0\n",
    "        if ans > max_time:\n",
    "            max_idx = i\n",
    "            max_time = ans\n",
    "    else:\n",
    "        ans = seconds[i] - seconds[i-1]\n",
    "        if ans >= max_time:\n",
    "            max_idx = i\n",
    "            max_time = ans\n",
    "\n",
    "print(letters[max_idx])"
   ]
  }
 ],
 "metadata": {
  "kernelspec": {
   "display_name": "Python 3 (ipykernel)",
   "language": "python",
   "name": "python3"
  },
  "language_info": {
   "codemirror_mode": {
    "name": "ipython",
    "version": 3
   },
   "file_extension": ".py",
   "mimetype": "text/x-python",
   "name": "python",
   "nbconvert_exporter": "python",
   "pygments_lexer": "ipython3",
   "version": "3.7.11"
  }
 },
 "nbformat": 4,
 "nbformat_minor": 5
}
