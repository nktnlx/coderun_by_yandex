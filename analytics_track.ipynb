{
 "cells": [
  {
   "cell_type": "markdown",
   "id": "9b02084f-aef1-4008-8b4b-ca0b8accaf65",
   "metadata": {},
   "source": [
    "# CodeRun β"
   ]
  },
  {
   "cell_type": "markdown",
   "id": "0ce788b1-59d2-4458-bb47-f48f9a5697a8",
   "metadata": {},
   "source": [
    "[link to website](https://coderun.yandex.ru/catalog)"
   ]
  },
  {
   "cell_type": "markdown",
   "id": "414a0969-2ae7-4754-b1cd-b1443559ab60",
   "metadata": {},
   "source": [
    "## Analytics track"
   ]
  },
  {
   "cell_type": "markdown",
   "id": "bcb8cd68-8c9d-4218-8867-577f2a90ee98",
   "metadata": {},
   "source": [
    "### Task 189. Dj Pasha"
   ]
  },
  {
   "cell_type": "markdown",
   "id": "9f85fb66-a9ec-415a-a3a6-ea69a7380007",
   "metadata": {},
   "source": [
    "Pasha is preparing for a party and creating a playlist of hip-hop music. He doesn't want to use common tracks and is looking for something new that he hasn't heard before.\n",
    "\n",
    "Pasha turned on a stream of unknown tracks on Yandex Music and is selecting a playlist. He calculated that an unknown track becomes his favorite with a probability of 20%.\n",
    "\n",
    "And among his favorites, on average, every third track is in the hip-hop genre.\n",
    "\n",
    "Pasha is trying to figure out how much time he needs to allocate to create a cool hip-hop playlist. Help him calculate how much time, on average, he needs to spend to hear one favorite hip-hop track if on average, one musical track lasts 2 minutes 45 seconds.\n",
    "\n",
    "**Output Format**\n",
    "\n",
    "The average amount of time needed to spend to listen to one favorite hip-hop track in seconds."
   ]
  },
  {
   "cell_type": "code",
   "execution_count": 2,
   "id": "251c53a2-4bbb-4eb4-80a9-982fe9b93119",
   "metadata": {
    "tags": []
   },
   "outputs": [],
   "source": [
    "# my solution will be available after 07/07/23 when the competition is over"
   ]
  },
  {
   "cell_type": "markdown",
   "id": "2d251e29-b884-40a7-adcf-5c6540479553",
   "metadata": {},
   "source": [
    "### Task 322. Deck of cards"
   ]
  },
  {
   "cell_type": "markdown",
   "id": "92ce488b-8e2e-4960-8c27-3a6055381a09",
   "metadata": {
    "tags": []
   },
   "source": [
    "From a well-shuffled full deck of cards (from twos to aces, 4 suits, a total of 52 cards), you are dealt 6 cards in a row. What is the probability that the sum of the dealt cards will be 21 points? Assume that the jack is worth 11 points, the queen is worth 12 points, the king is worth 13 points, and the ace is worth 14 points. The point value for the other cards coincides with their nominal value.\n",
    "\n",
    "Round your answer to six decimal places.\n",
    "\n",
    "**Output format:**\n",
    "\n",
    "A number from 0 to 1 with six decimal places. Example of the answer format: 0.123456"
   ]
  },
  {
   "cell_type": "code",
   "execution_count": 1,
   "id": "ab1cc256-acda-44b1-809f-6b67f2ead7ca",
   "metadata": {
    "tags": []
   },
   "outputs": [],
   "source": [
    "# my solution will be available after 07/07/23 when the competition is over"
   ]
  },
  {
   "cell_type": "markdown",
   "id": "2a307a08-d867-44c2-b4bd-88691eefecf9",
   "metadata": {},
   "source": [
    "### Task 191. The most difficult letter"
   ]
  },
  {
   "cell_type": "markdown",
   "id": "568618ae-b579-4632-86f4-bcbd205b5ac9",
   "metadata": {},
   "source": [
    "Vasily decided to improve his typing speed. He noticed that he spends more time looking for some letters on the keyboard than others. He wonders which letter he searched for the longest. Write a program that will help Vasily find out.\n",
    "\n",
    "Vasily entered N letters. The string S, entered by Vasily, has a length of N.\n",
    "\n",
    "The array A contains N non-negative integers, each number Ai is the time in milliseconds from the beginning of input until the i-th letter was typed.\n",
    "\n",
    "It is assumed that Vasily started looking for the next letter immediately after typing the previous one. He was looking for the letter with the index 0 for A0 milliseconds.\n",
    "\n",
    "When solving in the Dart language, use input and output through files, the standard input stream works too slowly.\n",
    "\n",
    "**Input format**\n",
    "\n",
    "The first line of input contains N - the number of letters entered.\n",
    "\n",
    "The second line contains S - the entered string consisting of N letters.\n",
    "\n",
    "The third line contains A - N non-negative integers separated by spaces.\n",
    "\n",
    "**Constraints**\n",
    "\n",
    "0 < N < 10^6\n",
    "0 ≤ Ai < 10^8\n",
    "The array A is sorted in ascending order:\n",
    "\n",
    "**Output format**\n",
    "\n",
    "Output the letter that Vasily searched for the longest. If there are several letters with the same search time, output the one that he typed last."
   ]
  },
  {
   "cell_type": "code",
   "execution_count": 2,
   "id": "ea30c1cb-019d-478d-a6ca-7a0f0d63e27a",
   "metadata": {
    "tags": []
   },
   "outputs": [
    {
     "name": "stdin",
     "output_type": "stream",
     "text": [
      " 3\n",
      " adc\n",
      " 1 7 5\n"
     ]
    },
    {
     "name": "stdout",
     "output_type": "stream",
     "text": [
      "d\n"
     ]
    }
   ],
   "source": [
    "# my solution will be available after 07/07/23 when the competition is over"
   ]
  }
 ],
 "metadata": {
  "kernelspec": {
   "display_name": "Python 3 (ipykernel)",
   "language": "python",
   "name": "python3"
  },
  "language_info": {
   "codemirror_mode": {
    "name": "ipython",
    "version": 3
   },
   "file_extension": ".py",
   "mimetype": "text/x-python",
   "name": "python",
   "nbconvert_exporter": "python",
   "pygments_lexer": "ipython3",
   "version": "3.7.11"
  }
 },
 "nbformat": 4,
 "nbformat_minor": 5
}
