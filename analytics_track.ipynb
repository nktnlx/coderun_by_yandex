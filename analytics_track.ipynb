{
 "cells": [
  {
   "cell_type": "markdown",
   "id": "9b02084f-aef1-4008-8b4b-ca0b8accaf65",
   "metadata": {},
   "source": [
    "# CodeRun β"
   ]
  },
  {
   "cell_type": "markdown",
   "id": "0ce788b1-59d2-4458-bb47-f48f9a5697a8",
   "metadata": {},
   "source": [
    "[link to website](https://coderun.yandex.ru/catalog)"
   ]
  },
  {
   "cell_type": "markdown",
   "id": "414a0969-2ae7-4754-b1cd-b1443559ab60",
   "metadata": {},
   "source": [
    "## Analytics track"
   ]
  },
  {
   "cell_type": "markdown",
   "id": "2d251e29-b884-40a7-adcf-5c6540479553",
   "metadata": {},
   "source": [
    "### Task 322. Deck of cards"
   ]
  },
  {
   "cell_type": "markdown",
   "id": "92ce488b-8e2e-4960-8c27-3a6055381a09",
   "metadata": {
    "tags": []
   },
   "source": [
    "From a well-shuffled full deck of cards (from twos to aces, 4 suits, a total of 52 cards), you are dealt 6 cards in a row. What is the probability that the sum of the dealt cards will be 21 points? Assume that the jack is worth 11 points, the queen is worth 12 points, the king is worth 13 points, and the ace is worth 14 points. The point value for the other cards coincides with their nominal value.\n",
    "\n",
    "Round your answer to six decimal places.\n",
    "\n",
    "**Output format:**\n",
    "\n",
    "A number from 0 to 1 with six decimal places. Example of the answer format: 0.123456"
   ]
  },
  {
   "cell_type": "code",
   "execution_count": 1,
   "id": "ab1cc256-acda-44b1-809f-6b67f2ead7ca",
   "metadata": {
    "tags": []
   },
   "outputs": [
    {
     "name": "stdout",
     "output_type": "stream",
     "text": [
      "0.000435\n"
     ]
    }
   ],
   "source": [
    "# my solution will be available after 07/07/23 when the competition is over"
   ]
  }
 ],
 "metadata": {
  "kernelspec": {
   "display_name": "Python 3 (ipykernel)",
   "language": "python",
   "name": "python3"
  },
  "language_info": {
   "codemirror_mode": {
    "name": "ipython",
    "version": 3
   },
   "file_extension": ".py",
   "mimetype": "text/x-python",
   "name": "python",
   "nbconvert_exporter": "python",
   "pygments_lexer": "ipython3",
   "version": "3.7.11"
  }
 },
 "nbformat": 4,
 "nbformat_minor": 5
}
